{
 "cells": [
  {
   "cell_type": "code",
   "execution_count": 1,
   "metadata": {},
   "outputs": [],
   "source": [
    "import numpy as np\n",
    "from matplotlib import pyplot as plt"
   ]
  },
  {
   "cell_type": "code",
   "execution_count": 7,
   "id": "683386f6",
   "metadata": {},
   "outputs": [],
   "source": [
    "# N = 100\n",
    "# alfa = 4\n",
    "# times = 100\n",
    "# prob = alfa/N\n",
    "# hubs = np.zeros(N)\n",
    "\n",
    "# temp = []\n",
    "\n",
    "# for i in range(N):\n",
    "#     hubs[i] = []\n",
    "#     x = 0\n",
    "#     for j in range((N+1)/2 - i):\n",
    "#         if np.random.rand() < prob:\n",
    "#             hubs[i] = 1\n",
    "            "
   ]
  },
  {
   "cell_type": "code",
   "execution_count": 14,
   "id": "4cf21e4c",
   "metadata": {},
   "outputs": [],
   "source": [
    "N = 100\n",
    "alfa = 4\n",
    "times = 100\n",
    "prob = alfa/N\n",
    "hubs = np.zeros((N,N))\n",
    "\n",
    "for i in range(N):\n",
    "    for j in range(int((N+1)/2)):\n",
    "        if np.random.rand() < prob:\n",
    "            hubs[i][j] = 1\n",
    "            hubs[j][i] = 1\n",
    "            "
   ]
  },
  {
   "cell_type": "code",
   "execution_count": 18,
   "id": "4b282008",
   "metadata": {},
   "outputs": [
    {
     "name": "stdout",
     "output_type": "stream",
     "text": [
      "198.0\n"
     ]
    }
   ],
   "source": [
    "L = prob*N*(N-1)/2\n",
    "print(L)"
   ]
  },
  {
   "cell_type": "markdown",
   "id": "dfe1efba",
   "metadata": {},
   "source": [
    "### Zadanie 3"
   ]
  },
  {
   "cell_type": "code",
   "execution_count": 25,
   "id": "31a9f8f7",
   "metadata": {},
   "outputs": [
    {
     "name": "stdout",
     "output_type": "stream",
     "text": [
      "3.96\n"
     ]
    }
   ],
   "source": [
    "k = prob*(N-1)\n",
    "k_Int = int(k)\n",
    "print(k)"
   ]
  },
  {
   "cell_type": "markdown",
   "id": "27ff6857",
   "metadata": {},
   "source": [
    "### Zadanie 4"
   ]
  },
  {
   "cell_type": "code",
   "execution_count": 26,
   "id": "cc6c6fdc",
   "metadata": {},
   "outputs": [],
   "source": [
    "pk = np.exp(-k) * np.power(k, k) / np.math.factorial(k_Int)"
   ]
  },
  {
   "cell_type": "markdown",
   "id": "452077c1",
   "metadata": {},
   "source": [
    "### Zadanie 5"
   ]
  },
  {
   "cell_type": "code",
   "execution_count": 57,
   "id": "88601960",
   "metadata": {},
   "outputs": [
    {
     "name": "stdout",
     "output_type": "stream",
     "text": [
      "1.0021871760000356\n"
     ]
    }
   ],
   "source": [
    "# srednia odleglosc od srodka\n",
    "d_cut = np.log(N) / np.log(k)\n",
    "print(d_cut)"
   ]
  },
  {
   "cell_type": "code",
   "execution_count": 58,
   "id": "c5fa16e5",
   "metadata": {},
   "outputs": [
    {
     "name": "stdout",
     "output_type": "stream",
     "text": [
      "101.01020408163266\n"
     ]
    }
   ],
   "source": [
    "# liczba wierzcholkow w odleglosci nie wieksze jak d\n",
    "N_d = (np.power(k, d_cut+1) - 1) / (k - 1)\n",
    "print(N_d)"
   ]
  },
  {
   "cell_type": "markdown",
   "id": "9b1a728b",
   "metadata": {},
   "source": [
    "## Algorytm Floyda-Warshalla:"
   ]
  },
  {
   "cell_type": "code",
   "execution_count": 76,
   "id": "2e56c94a",
   "metadata": {},
   "outputs": [
    {
     "data": {
      "text/plain": [
       "array([[ 0.,  2.,  3., ...,  3., inf,  2.],\n",
       "       [ 2.,  0.,  4., ...,  3., inf,  4.],\n",
       "       [ 3.,  4.,  0., ...,  3., inf,  3.],\n",
       "       ...,\n",
       "       [ 3.,  3.,  3., ...,  0., inf,  3.],\n",
       "       [inf, inf, inf, ..., inf,  0., inf],\n",
       "       [ 2.,  4.,  3., ...,  3., inf,  0.]])"
      ]
     },
     "execution_count": 76,
     "metadata": {},
     "output_type": "execute_result"
    }
   ],
   "source": [
    "d = np.zeros((N,N))\n",
    "\n",
    "for i in range(0, N):\n",
    "    for j in range(0, N):\n",
    "        if i == j:\n",
    "            d[i][j] = 0\n",
    "        else:\n",
    "            if hubs[i][j] == 1:\n",
    "                d[i][j] = 1\n",
    "            else:\n",
    "                d[i][j] = np.inf\n",
    "    \n",
    "for k in range(0, N):\n",
    "    for i in range(0, N):\n",
    "        for j in range(0, N):\n",
    "            if d[i][j] > d[i][k] + d[k][j]:\n",
    "                d[i][j] = d[i][k] + d[k][j]\n",
    "\n",
    "np.round(d, decimals=0)"
   ]
  },
  {
   "cell_type": "code",
   "execution_count": null,
   "id": "eceb9de3",
   "metadata": {},
   "outputs": [],
   "source": []
  },
  {
   "cell_type": "markdown",
   "id": "6a450adb",
   "metadata": {},
   "source": [
    "### Zadanie 6"
   ]
  },
  {
   "cell_type": "code",
   "execution_count": 54,
   "id": "81295c98",
   "metadata": {},
   "outputs": [
    {
     "name": "stdout",
     "output_type": "stream",
     "text": [
      "Oczekiwana srednia liczba trojkatow: 10.3\n"
     ]
    }
   ],
   "source": [
    "EX = np.math.factorial(N) / (np.math.factorial(N-3) * 6) * np.power(prob, 3)\n",
    "print(f\"Oczekiwana srednia liczba trojkatow: {np.round(EX, decimals=1)}\")"
   ]
  },
  {
   "cell_type": "code",
   "execution_count": 103,
   "id": "24922c14",
   "metadata": {},
   "outputs": [],
   "source": [
    "min = d[1][0]\n",
    "max = d[1][0]\n",
    "bins = 20\n",
    "\n",
    "for i in range(0, N):\n",
    "    for j in range(0, int((N+1)/2)):\n",
    "        if d[i][j] != np.inf and i != j:\n",
    "            if min > d[i][j]:\n",
    "                min = d[i][j]\n",
    "            if max < d[i][j]:\n",
    "                max = d[i][j]"
   ]
  },
  {
   "cell_type": "code",
   "execution_count": 1,
   "id": "672ff5e6",
   "metadata": {},
   "outputs": [
    {
     "ename": "TypeError",
     "evalue": "unsupported operand type(s) for -: 'builtin_function_or_method' and 'builtin_function_or_method'",
     "output_type": "error",
     "traceback": [
      "\u001b[0;31m---------------------------------------------------------------------------\u001b[0m",
      "\u001b[0;31mTypeError\u001b[0m                                 Traceback (most recent call last)",
      "Cell \u001b[0;32mIn[1], line 4\u001b[0m\n\u001b[1;32m      1\u001b[0m min_val \u001b[38;5;241m=\u001b[39m \u001b[38;5;28mmin\u001b[39m\n\u001b[1;32m      2\u001b[0m max_val \u001b[38;5;241m=\u001b[39m \u001b[38;5;28mmax\u001b[39m\n\u001b[0;32m----> 4\u001b[0m delta \u001b[38;5;241m=\u001b[39m (\u001b[43mmax_val\u001b[49m\u001b[43m \u001b[49m\u001b[38;5;241;43m-\u001b[39;49m\u001b[43m \u001b[49m\u001b[43mmin_val\u001b[49m) \u001b[38;5;241m/\u001b[39m N\n\u001b[1;32m      6\u001b[0m \u001b[38;5;66;03m# Initialize arrays\u001b[39;00m\n\u001b[1;32m      7\u001b[0m bar_height \u001b[38;5;241m=\u001b[39m np\u001b[38;5;241m.\u001b[39mzeros(N)\n",
      "\u001b[0;31mTypeError\u001b[0m: unsupported operand type(s) for -: 'builtin_function_or_method' and 'builtin_function_or_method'"
     ]
    }
   ],
   "source": [
    "min_val = min\n",
    "max_val = max\n",
    "\n",
    "delta = (max_val - min_val) / N\n",
    "\n",
    "# Initialize arrays\n",
    "bar_height = np.zeros(N)\n",
    "bar_x = np.arange(min_val, max_val, delta)\n",
    "\n",
    "# Loop through bins\n",
    "for bin_idx in range(N):\n",
    "    bin_start = min_val + bin_idx * delta\n",
    "    bin_end = bin_start + delta\n",
    "\n",
    "    # Loop through distance matrix\n",
    "    for i in range(N):\n",
    "        for j in range(i + 1, N):  # Avoid comparing the same nodes and avoid redundant calculations\n",
    "            if d[i][j] >= bin_start and d[i][j] < bin_end:\n",
    "                bar_height[bin_idx] += 1\n",
    "\n",
    "# Plot the histogram\n",
    "plt.bar(bar_x, bar_height, width=delta, align='edge')  # Adjust width and alignment\n",
    "plt.xlabel('Distances between nodes')\n",
    "plt.ylabel('Counts of distances')\n",
    "plt.show()\n"
   ]
  },
  {
   "cell_type": "code",
   "execution_count": null,
   "id": "84c92292",
   "metadata": {},
   "outputs": [],
   "source": []
  },
  {
   "cell_type": "code",
   "execution_count": null,
   "id": "b54a681b",
   "metadata": {},
   "outputs": [],
   "source": []
  }
 ],
 "metadata": {
  "kernelspec": {
   "display_name": "Python 3",
   "language": "python",
   "name": "python3"
  },
  "language_info": {
   "codemirror_mode": {
    "name": "ipython",
    "version": 3
   },
   "file_extension": ".py",
   "mimetype": "text/x-python",
   "name": "python",
   "nbconvert_exporter": "python",
   "pygments_lexer": "ipython3",
   "version": "3.12.2"
  }
 },
 "nbformat": 4,
 "nbformat_minor": 5
}
