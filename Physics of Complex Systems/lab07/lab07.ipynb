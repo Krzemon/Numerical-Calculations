{
 "cells": [
  {
   "cell_type": "code",
   "execution_count": 1,
   "metadata": {},
   "outputs": [],
   "source": [
    "import numpy as np\n",
    "import matplotlib.pyplot as plt\n",
    "import random\n",
    "from numba import jit"
   ]
  },
  {
   "cell_type": "markdown",
   "metadata": {},
   "source": [
    "Dla zjawiska perkolacji węzłów potrzebujemy grafu (np. sieci regularnej), którego każdy z węzłów jest zajęty\n",
    "z prawdopodobieństwem p bądź „pusty” z prawdopodobienstwem (1 − p). Zjawisko to przebadany na sieci kwadra-\n",
    "towej z otwarymi (swobodnymi) warunkami brzegowymi.\n",
    "Będziemy chcieli znaleźć prawdopodobieństwo perkolacji W (p; L) (wrapping probability) w zależności od liniowe-\n",
    "go rozmiaru układu L i prawdopodobieństwa okupacji (wypełnienia, zajętości) pojedynczego węzła p. Prawdopod-\n",
    "bieństwo perkolacji W określa prawdopodobieństwo, że przy wypełnienuu pL2 spośród L2 dostępnych w układzie\n",
    "węzłów istnieje nieprzerwana ścieżka łącząca lewy brzeg z prawym albo górny z dolnym. Ograniczymy się do ba-\n",
    "dania połączenia góra–dół (bo bardzo łatwo automatycznie wykrywać połączenie góra/dół). Dla małych układów\n",
    "można to zrobić metodą brutalnej siły, dla dużych już nie, bo wypełnienie siatki kwadratowej o boku L = 100 przy\n",
    "zapełnieniniu jej w połowie można zrobić na ( 104 / 5000) ≈ 1.6 × 103008 sposobów (tak, jedynka z ponad trzema tysiącami\n",
    "zer).\n",
    "Do odpowiedzi na powyższe pytanie potrzebujemy algorytmu identyfikacji zajętych węzłów należących do tego\n",
    "samego klastra.\n",
    "Posłużymy się (niezręcznie implementowanym) algorytmem Hoshena–Kopelmana. Algorytm pozwala zajętym\n",
    "węzłom przypisać etykiety, w ten stposób, że węzły należące do tego samego klastra mają takie same etykiety a węzły\n",
    "z różnych klastrów mają różne etykiety. Do wyznaczenia W (p; L) generujemy R przykładów sieci i sprawdzamy w ilu\n",
    "(N (p; L)) z nich mamy etykiety węzłów z górnej krawędzi w dolnej. Wówczas W (p; L) = N (p; L)/R.\n",
    "Alorytm Hoshena–Kopelmana każe przejść sekwencyjnie przez siatkę i za każdym razem, gdy napotykamy zajęty\n",
    "węzeł (x, y) sprawdzamy czy ma on zajętego sąsiada w (x − 1, y) bądź (x, y − 1) (uroda algorytmu zasadza się\n",
    "na tym, że pierwszą iterację etykietowania można robić równolegle z wypełnianiem sieci. Będziemy potrzebować\n",
    "drugiej iteracji). Jeśli nie ma, to węzłowi przypisujemy pierwszą jeszcze niewykorzystaną etykietę. Jeśli ma, to węzeł\n",
    "etykietujemy mniejszą spośród już przypisanych zajętym sąsiadom etykietom i (o ile jest to sytuacja, że obaj sąsiedzi\n",
    "są zajęci) zapamiętujemy, że (konsekwentie, wstecz) etykietę wyższą z tych dwóch trzeba zastąpić niższą."
   ]
  },
  {
   "cell_type": "markdown",
   "metadata": {},
   "source": [
    "### Zadanie 1 (50 pkt.): \n",
    "Wygeneruj siatkę o boku L = 16 wypełnioną z p = 0,4; 0,6 oraz 0,8. Wypisz siatkę oraz ety-\n",
    "kiety węzłów przypisanych algorytmem Hoshena–Kopelmana. Odpowiedz czy wygenerowana siatka perkoluje\n",
    "czy nie."
   ]
  },
  {
   "cell_type": "code",
   "execution_count": 90,
   "metadata": {},
   "outputs": [
    {
     "data": {
      "text/plain": [
       "array([[0, 0, 0, 0, 0, 0, 0, 0, 0, 0, 0, 0, 0, 0, 0, 0, 0],\n",
       "       [0, 0, 1, 0, 1, 1, 0, 1, 1, 0, 0, 0, 1, 1, 1, 0, 1],\n",
       "       [0, 1, 1, 1, 1, 0, 1, 1, 0, 1, 1, 1, 0, 1, 1, 1, 1],\n",
       "       [0, 1, 1, 1, 1, 1, 1, 0, 1, 0, 1, 1, 0, 1, 0, 1, 1],\n",
       "       [0, 1, 1, 1, 1, 1, 0, 1, 1, 0, 1, 1, 1, 1, 0, 0, 1],\n",
       "       [0, 0, 0, 1, 0, 1, 1, 0, 1, 0, 1, 0, 0, 1, 0, 1, 0],\n",
       "       [0, 0, 0, 0, 1, 0, 1, 1, 0, 1, 1, 0, 1, 0, 0, 0, 1],\n",
       "       [0, 0, 1, 1, 0, 0, 0, 0, 1, 1, 1, 0, 1, 1, 1, 0, 1],\n",
       "       [0, 0, 0, 0, 1, 0, 1, 1, 0, 1, 0, 1, 0, 0, 0, 1, 0],\n",
       "       [0, 1, 1, 0, 1, 1, 0, 1, 1, 0, 0, 1, 0, 1, 1, 1, 1],\n",
       "       [0, 1, 1, 1, 0, 1, 1, 0, 1, 0, 1, 1, 0, 1, 1, 0, 0],\n",
       "       [0, 0, 0, 1, 1, 1, 0, 1, 1, 0, 1, 1, 1, 0, 0, 1, 0],\n",
       "       [0, 1, 1, 0, 0, 1, 0, 1, 1, 1, 1, 1, 1, 0, 0, 1, 0],\n",
       "       [0, 1, 1, 1, 0, 0, 1, 1, 0, 1, 1, 1, 1, 1, 1, 1, 1],\n",
       "       [0, 0, 0, 0, 1, 1, 1, 0, 1, 0, 0, 1, 1, 1, 0, 0, 0],\n",
       "       [0, 1, 1, 0, 0, 1, 0, 0, 0, 1, 1, 0, 0, 1, 0, 1, 1],\n",
       "       [0, 0, 1, 0, 0, 0, 0, 1, 0, 1, 0, 0, 0, 0, 0, 1, 1]])"
      ]
     },
     "execution_count": 90,
     "metadata": {},
     "output_type": "execute_result"
    }
   ],
   "source": [
    "L = 16\n",
    "p = [0.4, 0.6, 0.8]\n",
    "SIATKA = np.zeros((L+1, L+1), dtype=int)\n",
    "ETYKIETY = np.zeros((L+1, L+1), dtype=int)\n",
    "\n",
    "\n",
    "def losuj(prob):\n",
    "    for i in range(L+1):\n",
    "        for j in range(L+1):\n",
    "            if random.random() < prob:\n",
    "                SIATKA[i, j] = 1\n",
    "            else:\n",
    "                SIATKA[i, j] = 0\n",
    "\n",
    "losuj(p[1])\n",
    "SIATKA[0, :] = 0\n",
    "SIATKA[:, 0] = 0\n",
    "SIATKA"
   ]
  },
  {
   "cell_type": "code",
   "execution_count": 95,
   "metadata": {},
   "outputs": [
    {
     "name": "stdout",
     "output_type": "stream",
     "text": [
      "[[ 0  1  0  1  1  0  1  1  0  0  0  4  4  4  0  4]\n",
      " [ 1  1  1  1  0  1  1  0  1  8  4  0  4  4  4  4]\n",
      " [ 1  1  1  1  1  1  0  1  0  8  8  0  4  0  4  4]\n",
      " [ 1  1  1  1  1  0  1  9  0  8  8  4  4  0  0  4]\n",
      " [ 0  0  1  0  1  1  0  1  0  8  0  0  4  0  4  0]\n",
      " [ 0  0  0  1  0  1  1  0  8  8  0  4  0  0  0 15]\n",
      " [ 0 16 12  0  0  0  0 13  8  8  0 14 14 14  0 15]\n",
      " [ 0  0  0 18  0 18 17  0  8  0 14  0  0  0 15  0]\n",
      " [22 22  0 18 18  0 18 13  0  0 20  0 23 19 21 21]\n",
      " [22 22 18  0 18 18  0 19  0 20 19  0 19 21  0  0]\n",
      " [ 0  0 22 18 18  0 19 19  0 19 19 19  0  0 26  0]\n",
      " [27 22  0  0 18  0 19 19 19 19 19 19  0  0 19  0]\n",
      " [27 27 27  0  0 25 19  0 19 19 19 19 19 19 19 19]\n",
      " [ 0  0  0 29 28 25  0 19  0  0 19 19 19  0  0  0]\n",
      " [31 31  0  0 28  0  0  0 32 19  0  0 19  0 33 33]\n",
      " [ 0 31  0  0  0  0 34  0 32  0  0  0  0  0 33 33]]\n"
     ]
    }
   ],
   "source": [
    "etykieta = 1\n",
    "tab = []\n",
    "for i in range(L+1):\n",
    "    for j in range(L+1):\n",
    "        if SIATKA[i, j] == 1:\n",
    "            if SIATKA[i-1, j] == 0 and SIATKA[i, j-1] == 0:\n",
    "                ETYKIETY[i, j] = etykieta\n",
    "                etykieta += 1\n",
    "            elif SIATKA[i-1, j] == 1 and SIATKA[i, j-1] == 1:\n",
    "                if ETYKIETY[i-1, j] < ETYKIETY[i, j-1]:\n",
    "                    ETYKIETY[i, j] = ETYKIETY[i-1, j]\n",
    "                else:\n",
    "                    ETYKIETY[i, j] = ETYKIETY[i, j-1]\n",
    "            elif SIATKA[i-1, j] == 1 and SIATKA[i, j-1] == 0:\n",
    "                ETYKIETY[i, j] = ETYKIETY[i-1, j]\n",
    "            elif SIATKA[i-1, j] == 0 and SIATKA[i, j-1] == 1:\n",
    "                ETYKIETY[i, j] = ETYKIETY[i, j-1]\n",
    "\n",
    "for i in range(L, 1, -1):\n",
    "    for j in range(L, 1, -1):\n",
    "        if ETYKIETY[i-1, j] < ETYKIETY[i, j-1] and ETYKIETY[i-1, j] != 0 and ETYKIETY[i, j-1] != 0:\n",
    "            ETYKIETY[i, j-1] = ETYKIETY[i-1, j]\n",
    "        elif ETYKIETY[i-1, j] > ETYKIETY[i, j-1] and ETYKIETY[i-1, j] != 0 and ETYKIETY[i, j-1] != 0:\n",
    "            ETYKIETY[i-1, j] = ETYKIETY[i, j-1]\n",
    "\n",
    "print(ETYKIETY[1:,1:])"
   ]
  },
  {
   "cell_type": "code",
   "execution_count": 96,
   "metadata": {},
   "outputs": [
    {
     "data": {
      "text/plain": [
       "0"
      ]
     },
     "execution_count": 96,
     "metadata": {},
     "output_type": "execute_result"
    }
   ],
   "source": [
    "counter = 0\n",
    "\n",
    "for i in range(1, L+1):\n",
    "    for j in range(1, L+1):\n",
    "        if ETYKIETY[1][i] == ETYKIETY[-1][j] and ETYKIETY[1][i] != 0:\n",
    "            counter += 1\n",
    "counter"
   ]
  },
  {
   "cell_type": "code",
   "execution_count": 103,
   "metadata": {},
   "outputs": [
    {
     "data": {
      "text/plain": [
       "array([[0, 0, 0, 0, 0, 0, 0, 0, 0, 0, 0, 0, 0, 0, 0, 0, 0],\n",
       "       [0, 1, 0, 1, 1, 1, 0, 1, 1, 0, 0, 0, 0, 1, 0, 1, 0],\n",
       "       [0, 1, 0, 1, 1, 0, 0, 1, 1, 0, 1, 1, 1, 1, 1, 1, 1],\n",
       "       [0, 1, 0, 0, 0, 1, 0, 1, 1, 0, 1, 1, 0, 0, 1, 0, 0],\n",
       "       [0, 0, 1, 0, 1, 1, 0, 1, 0, 1, 0, 1, 0, 0, 0, 0, 1],\n",
       "       [0, 1, 1, 1, 1, 0, 1, 1, 0, 0, 1, 1, 1, 0, 1, 1, 1],\n",
       "       [0, 0, 1, 0, 1, 0, 0, 1, 1, 1, 1, 1, 0, 1, 0, 1, 0],\n",
       "       [0, 0, 1, 0, 0, 0, 1, 1, 0, 1, 1, 1, 1, 0, 0, 1, 1],\n",
       "       [0, 0, 1, 0, 0, 1, 1, 0, 1, 0, 1, 1, 1, 0, 1, 1, 0],\n",
       "       [0, 1, 1, 0, 1, 1, 1, 1, 1, 1, 1, 1, 1, 1, 0, 1, 0],\n",
       "       [0, 1, 0, 0, 1, 1, 0, 1, 1, 1, 1, 0, 0, 1, 1, 0, 0],\n",
       "       [0, 0, 1, 1, 1, 0, 1, 0, 1, 1, 1, 0, 1, 0, 0, 1, 1],\n",
       "       [0, 0, 1, 1, 0, 1, 0, 0, 0, 0, 1, 1, 0, 0, 0, 1, 1],\n",
       "       [0, 1, 1, 1, 1, 0, 1, 1, 1, 1, 1, 0, 1, 0, 1, 1, 1],\n",
       "       [0, 0, 1, 1, 1, 1, 0, 1, 1, 1, 1, 1, 1, 1, 0, 1, 1],\n",
       "       [0, 1, 0, 1, 1, 1, 1, 1, 0, 0, 1, 0, 0, 0, 1, 1, 0],\n",
       "       [0, 0, 1, 1, 1, 1, 1, 0, 1, 0, 0, 1, 0, 1, 1, 1, 1]])"
      ]
     },
     "execution_count": 103,
     "metadata": {},
     "output_type": "execute_result"
    }
   ],
   "source": [
    "SIATKA = np.zeros((L+1, L+1), dtype=int)\n",
    "ETYKIETY = np.zeros((L+1, L+1), dtype=int)\n",
    "losuj(p[1])\n",
    "SIATKA[0, :] = 0\n",
    "SIATKA[:, 0] = 0\n",
    "SIATKA"
   ]
  },
  {
   "cell_type": "code",
   "execution_count": 104,
   "metadata": {},
   "outputs": [
    {
     "name": "stdout",
     "output_type": "stream",
     "text": [
      "[[ 1  0  2  2  2  0  3  3  0  0  0  0  4  0  4  0]\n",
      " [ 1  0  2  2  0  0  3  3  0  6  6  4  4  4  4  4]\n",
      " [ 1  0  0  0  7  0  3  3  0  6  4  0  0  4  0  0]\n",
      " [ 0  8  0  7  7  0  3  0  6  0  3  0  0  0  0 11]\n",
      " [ 8  8  7  7  0  3  3  0  0  3  3  3  0  3 11 11]\n",
      " [ 0  7  0  7  0  0  3  3  3  3  3  0  3  0 11  0]\n",
      " [ 0  8  0  0  0  3  3  0  3  3  3  3  0  0  3 11]\n",
      " [ 0  8  0  0  3  3  0  3  0  3  3  3  0  3 11  0]\n",
      " [ 8  8  0  3  3  3  3  3  3  3  3  3  3  0  3  0]\n",
      " [ 8  0  0  3  3  0  3  3  3  3  0  0  3  3  0  0]\n",
      " [ 0 23  3  3  0  3  0  3  3  3  0  3  0  0 26  3]\n",
      " [ 0  3  3  0  3  0  0  0  0  3  3  0  0  0  3 26]\n",
      " [ 3  3  3  3  0  3 29  3  3  3  0  3  0  3 26 26]\n",
      " [ 0  3  3  3  3  0  3  3  3  3  3  3  3  0 26 26]\n",
      " [ 3  0  3  3  3  3  3  0  0  3  0  0  0 26 26  0]\n",
      " [ 0  3  3  3  3  3  0 35  0  0 36  0 26 26 26 26]]\n"
     ]
    }
   ],
   "source": [
    "etykieta = 1\n",
    "tab = []\n",
    "\n",
    "for i in range(1,L+1):\n",
    "    for j in range(1,L+1):\n",
    "        if SIATKA[i, j] == 1:\n",
    "            if SIATKA[i-1, j] == 0 and SIATKA[i, j-1] == 0:\n",
    "                ETYKIETY[i, j] = etykieta\n",
    "                etykieta += 1\n",
    "            elif SIATKA[i-1, j] == 1 and SIATKA[i, j-1] == 1:\n",
    "                if ETYKIETY[i-1, j] < ETYKIETY[i, j-1]:\n",
    "                    ETYKIETY[i, j] = ETYKIETY[i-1, j]\n",
    "                    ETYKIETY[i, j-1] = ETYKIETY[i-1, j]\n",
    "                else:\n",
    "                    ETYKIETY[i, j] = ETYKIETY[i, j-1]\n",
    "                    ETYKIETY[i-1, j] = ETYKIETY[i, j-1]\n",
    "            elif SIATKA[i-1, j] == 1 and SIATKA[i, j-1] == 0:\n",
    "                ETYKIETY[i, j] = ETYKIETY[i-1, j]\n",
    "                \n",
    "            elif SIATKA[i-1, j] == 0 and SIATKA[i, j-1] == 1:\n",
    "                ETYKIETY[i, j] = ETYKIETY[i, j-1]\n",
    "\n",
    "for i in range(L, 1, -1):\n",
    "    for j in range(L, 1, -1):\n",
    "        if ETYKIETY[i-1, j] < ETYKIETY[i, j-1] and ETYKIETY[i-1, j] != 0 and ETYKIETY[i, j-1] != 0:\n",
    "            ETYKIETY[i, j-1] = ETYKIETY[i-1, j]\n",
    "        elif ETYKIETY[i-1, j] > ETYKIETY[i, j-1] and ETYKIETY[i-1, j] != 0 and ETYKIETY[i, j-1] != 0:\n",
    "            ETYKIETY[i-1, j] = ETYKIETY[i, j-1]\n",
    "            \n",
    "print(ETYKIETY[1:,1:])\n",
    "# print(ETYKIETY)"
   ]
  },
  {
   "cell_type": "code",
   "execution_count": 105,
   "metadata": {},
   "outputs": [
    {
     "data": {
      "text/plain": [
       "10"
      ]
     },
     "execution_count": 105,
     "metadata": {},
     "output_type": "execute_result"
    }
   ],
   "source": [
    "counter = 0\n",
    "\n",
    "for i in range(0, L+1):\n",
    "    for j in range(0, L+1):\n",
    "        if ETYKIETY[1][i] == ETYKIETY[-1][j] and ETYKIETY[1][i] != 0:\n",
    "            counter += 1\n",
    "counter"
   ]
  },
  {
   "cell_type": "code",
   "execution_count": 106,
   "metadata": {},
   "outputs": [
    {
     "ename": "IndexError",
     "evalue": "index 16 is out of bounds for axis 1 with size 16",
     "output_type": "error",
     "traceback": [
      "\u001b[0;31m---------------------------------------------------------------------------\u001b[0m",
      "\u001b[0;31mIndexError\u001b[0m                                Traceback (most recent call last)",
      "Cell \u001b[0;32mIn[106], line 3\u001b[0m\n\u001b[1;32m      1\u001b[0m SIATKA \u001b[38;5;241m=\u001b[39m np\u001b[38;5;241m.\u001b[39mzeros((L, L), dtype\u001b[38;5;241m=\u001b[39m\u001b[38;5;28mint\u001b[39m)\n\u001b[1;32m      2\u001b[0m ETYKIETY \u001b[38;5;241m=\u001b[39m np\u001b[38;5;241m.\u001b[39mzeros((L, L), dtype\u001b[38;5;241m=\u001b[39m\u001b[38;5;28mint\u001b[39m)\n\u001b[0;32m----> 3\u001b[0m \u001b[43mlosuj\u001b[49m\u001b[43m(\u001b[49m\u001b[43mp\u001b[49m\u001b[43m[\u001b[49m\u001b[38;5;241;43m2\u001b[39;49m\u001b[43m]\u001b[49m\u001b[43m)\u001b[49m\n\u001b[1;32m      4\u001b[0m etykieta \u001b[38;5;241m=\u001b[39m \u001b[38;5;241m1\u001b[39m\n\u001b[1;32m      6\u001b[0m SIATKA\n",
      "Cell \u001b[0;32mIn[90], line 11\u001b[0m, in \u001b[0;36mlosuj\u001b[0;34m(prob)\u001b[0m\n\u001b[1;32m      9\u001b[0m \u001b[38;5;28;01mfor\u001b[39;00m j \u001b[38;5;129;01min\u001b[39;00m \u001b[38;5;28mrange\u001b[39m(L\u001b[38;5;241m+\u001b[39m\u001b[38;5;241m1\u001b[39m):\n\u001b[1;32m     10\u001b[0m     \u001b[38;5;28;01mif\u001b[39;00m random\u001b[38;5;241m.\u001b[39mrandom() \u001b[38;5;241m<\u001b[39m prob:\n\u001b[0;32m---> 11\u001b[0m         \u001b[43mSIATKA\u001b[49m\u001b[43m[\u001b[49m\u001b[43mi\u001b[49m\u001b[43m,\u001b[49m\u001b[43m \u001b[49m\u001b[43mj\u001b[49m\u001b[43m]\u001b[49m \u001b[38;5;241m=\u001b[39m \u001b[38;5;241m1\u001b[39m\n\u001b[1;32m     12\u001b[0m     \u001b[38;5;28;01melse\u001b[39;00m:\n\u001b[1;32m     13\u001b[0m         SIATKA[i, j] \u001b[38;5;241m=\u001b[39m \u001b[38;5;241m0\u001b[39m\n",
      "\u001b[0;31mIndexError\u001b[0m: index 16 is out of bounds for axis 1 with size 16"
     ]
    }
   ],
   "source": [
    "SIATKA = np.zeros((L, L), dtype=int)\n",
    "ETYKIETY = np.zeros((L, L), dtype=int)\n",
    "losuj(p[2])\n",
    "etykieta = 1\n",
    "\n",
    "SIATKA"
   ]
  },
  {
   "cell_type": "code",
   "execution_count": 107,
   "metadata": {},
   "outputs": [
    {
     "ename": "IndexError",
     "evalue": "index 16 is out of bounds for axis 1 with size 16",
     "output_type": "error",
     "traceback": [
      "\u001b[0;31m---------------------------------------------------------------------------\u001b[0m",
      "\u001b[0;31mIndexError\u001b[0m                                Traceback (most recent call last)",
      "Cell \u001b[0;32mIn[107], line 21\u001b[0m\n\u001b[1;32m     19\u001b[0m \u001b[38;5;28;01mfor\u001b[39;00m i \u001b[38;5;129;01min\u001b[39;00m \u001b[38;5;28mrange\u001b[39m(L, \u001b[38;5;241m1\u001b[39m, \u001b[38;5;241m-\u001b[39m\u001b[38;5;241m1\u001b[39m):\n\u001b[1;32m     20\u001b[0m     \u001b[38;5;28;01mfor\u001b[39;00m j \u001b[38;5;129;01min\u001b[39;00m \u001b[38;5;28mrange\u001b[39m(L, \u001b[38;5;241m1\u001b[39m, \u001b[38;5;241m-\u001b[39m\u001b[38;5;241m1\u001b[39m):\n\u001b[0;32m---> 21\u001b[0m         \u001b[38;5;28;01mif\u001b[39;00m \u001b[43mETYKIETY\u001b[49m\u001b[43m[\u001b[49m\u001b[43mi\u001b[49m\u001b[38;5;241;43m-\u001b[39;49m\u001b[38;5;241;43m1\u001b[39;49m\u001b[43m,\u001b[49m\u001b[43m \u001b[49m\u001b[43mj\u001b[49m\u001b[43m]\u001b[49m \u001b[38;5;241m<\u001b[39m ETYKIETY[i, j\u001b[38;5;241m-\u001b[39m\u001b[38;5;241m1\u001b[39m] \u001b[38;5;129;01mand\u001b[39;00m ETYKIETY[i\u001b[38;5;241m-\u001b[39m\u001b[38;5;241m1\u001b[39m, j] \u001b[38;5;241m!=\u001b[39m \u001b[38;5;241m0\u001b[39m \u001b[38;5;129;01mand\u001b[39;00m ETYKIETY[i, j\u001b[38;5;241m-\u001b[39m\u001b[38;5;241m1\u001b[39m] \u001b[38;5;241m!=\u001b[39m \u001b[38;5;241m0\u001b[39m:\n\u001b[1;32m     22\u001b[0m             ETYKIETY[i, j\u001b[38;5;241m-\u001b[39m\u001b[38;5;241m1\u001b[39m] \u001b[38;5;241m=\u001b[39m ETYKIETY[i\u001b[38;5;241m-\u001b[39m\u001b[38;5;241m1\u001b[39m, j]\n\u001b[1;32m     23\u001b[0m         \u001b[38;5;28;01melif\u001b[39;00m ETYKIETY[i\u001b[38;5;241m-\u001b[39m\u001b[38;5;241m1\u001b[39m, j] \u001b[38;5;241m>\u001b[39m ETYKIETY[i, j\u001b[38;5;241m-\u001b[39m\u001b[38;5;241m1\u001b[39m] \u001b[38;5;129;01mand\u001b[39;00m ETYKIETY[i\u001b[38;5;241m-\u001b[39m\u001b[38;5;241m1\u001b[39m, j] \u001b[38;5;241m!=\u001b[39m \u001b[38;5;241m0\u001b[39m \u001b[38;5;129;01mand\u001b[39;00m ETYKIETY[i, j\u001b[38;5;241m-\u001b[39m\u001b[38;5;241m1\u001b[39m] \u001b[38;5;241m!=\u001b[39m \u001b[38;5;241m0\u001b[39m:\n",
      "\u001b[0;31mIndexError\u001b[0m: index 16 is out of bounds for axis 1 with size 16"
     ]
    }
   ],
   "source": [
    "\n",
    "for i in range(L):\n",
    "    for j in range(L):\n",
    "        if SIATKA[i, j] == 1:\n",
    "            if SIATKA[i-1, j] == 0 and SIATKA[i, j-1] == 0:\n",
    "                ETYKIETY[i, j] = etykieta\n",
    "                etykieta += 1\n",
    "            elif SIATKA[i-1, j] == 1 and SIATKA[i, j-1] == 1:\n",
    "                if ETYKIETY[i-1, j] < ETYKIETY[i, j-1]:\n",
    "                    ETYKIETY[i, j] = ETYKIETY[i-1, j]\n",
    "                    ETYKIETY[i, j-1] = ETYKIETY[i-1, j]\n",
    "                else:\n",
    "                    ETYKIETY[i, j] = ETYKIETY[i, j-1]\n",
    "                    ETYKIETY[i-1, j] = ETYKIETY[i, j-1]\n",
    "            elif SIATKA[i-1, j] == 1 and SIATKA[i, j-1] == 0:\n",
    "                ETYKIETY[i, j] = ETYKIETY[i-1, j]\n",
    "            elif SIATKA[i-1, j] == 0 and SIATKA[i, j-1] == 1:\n",
    "                ETYKIETY[i, j] = ETYKIETY[i, j-1]\n",
    "\n",
    "for i in range(L, 1, -1):\n",
    "    for j in range(L, 1, -1):\n",
    "        if ETYKIETY[i-1, j] < ETYKIETY[i, j-1] and ETYKIETY[i-1, j] != 0 and ETYKIETY[i, j-1] != 0:\n",
    "            ETYKIETY[i, j-1] = ETYKIETY[i-1, j]\n",
    "        elif ETYKIETY[i-1, j] > ETYKIETY[i, j-1] and ETYKIETY[i-1, j] != 0 and ETYKIETY[i, j-1] != 0:\n",
    "            ETYKIETY[i-1, j] = ETYKIETY[i, j-1]\n",
    "            \n",
    "ETYKIETY"
   ]
  },
  {
   "cell_type": "markdown",
   "metadata": {},
   "source": [
    "### Zadanie 2 (30 pkt.): \n",
    "Zautomatyzuj proces odpowiadania na pytanie czy siatka perkoluje czy nie (wyznaczania\n",
    "N (p)). Dla L = 16 wygeneruj po R = 1000 siatek dla p od 0,4 do 0,8 co 0,01. Sporządź wykres W (p; L =\n",
    "16) = N (p)/R."
   ]
  },
  {
   "cell_type": "code",
   "execution_count": null,
   "metadata": {},
   "outputs": [],
   "source": []
  },
  {
   "cell_type": "markdown",
   "metadata": {},
   "source": [
    "### Zadanie 3 (20 pkt.): \n",
    "Powtórz obliczenia z zadania 2 dla L = 32. Nałóż je na wykres z poprzedniego zadania\n",
    "(dwie krzywe na jednym rysunku: W (p; L = 16) oraz W (p; L = 32))."
   ]
  },
  {
   "cell_type": "code",
   "execution_count": null,
   "metadata": {},
   "outputs": [],
   "source": []
  }
 ],
 "metadata": {
  "kernelspec": {
   "display_name": "Python 3",
   "language": "python",
   "name": "python3"
  },
  "language_info": {
   "codemirror_mode": {
    "name": "ipython",
    "version": 3
   },
   "file_extension": ".py",
   "mimetype": "text/x-python",
   "name": "python",
   "nbconvert_exporter": "python",
   "pygments_lexer": "ipython3",
   "version": "3.12.2"
  }
 },
 "nbformat": 4,
 "nbformat_minor": 2
}
