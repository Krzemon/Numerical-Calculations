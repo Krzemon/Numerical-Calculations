{
 "cells": [
  {
   "cell_type": "code",
   "execution_count": 1,
   "id": "f38c29d2",
   "metadata": {},
   "outputs": [],
   "source": [
    "import numpy as np"
   ]
  },
  {
   "cell_type": "code",
   "execution_count": 2,
   "id": "05d2e897",
   "metadata": {},
   "outputs": [
    {
     "name": "stdout",
     "output_type": "stream",
     "text": [
      "[[ 592.   -592.      0.      0.  ]\n",
      " [ -49.33  181.   -131.67    0.  ]\n",
      " [   0.   -131.67  181.    -49.33]\n",
      " [   0.      0.   -592.    592.  ]]\n"
     ]
    }
   ],
   "source": [
    "k_CH = 5.92e2\n",
    "k_CC = 15.8e2\n",
    "\n",
    "# masa w amu\n",
    "m_H = 1\n",
    "m_C = 12\n",
    "# amu = 1.6605*1e-27\n",
    "\n",
    "N = 4\n",
    "D = np.zeros((N,N))\n",
    "\n",
    "D[1][1] = D[2][2] = (k_CC + k_CH) / m_C\n",
    "D[0][0] = D[3][3] = k_CH / m_H\n",
    "D[0][1] = D[3][2] = - k_CH / m_H\n",
    "D[1][0] = D[2][3] = - k_CH / m_C\n",
    "D[2][1] = D[1][2] = - k_CC / m_C\n",
    "\n",
    "print(np.round(D, decimals=2))"
   ]
  },
  {
   "cell_type": "code",
   "execution_count": 3,
   "id": "25cf2945",
   "metadata": {},
   "outputs": [],
   "source": [
    "# Implementacja rozkładu QR metodą Householdera\n",
    "def qr_householder(A):\n",
    "    m, n = A.shape\n",
    "    Q = np.eye(m)\n",
    "\n",
    "    for i in range(min(m, n)):\n",
    "        x = A[i:, i]\n",
    "        e = np.zeros_like(x)\n",
    "        e[0] = np.linalg.norm(x)\n",
    "        u = x - e\n",
    "        norm_u = np.linalg.norm(u)\n",
    "        if norm_u != 0:\n",
    "            v = u / norm_u\n",
    "            Q_i = np.eye(m)\n",
    "            Q_i[i:, i:] -= 2 * np.outer(v, v)\n",
    "            Q = np.dot(Q, Q_i)\n",
    "            A = np.dot(Q_i, A)\n",
    "\n",
    "    return Q.T, np.round(A, decimals=10)"
   ]
  },
  {
   "cell_type": "code",
   "execution_count": 4,
   "id": "6dd58fa2",
   "metadata": {},
   "outputs": [
    {
     "name": "stdout",
     "output_type": "stream",
     "text": [
      "Q:\n",
      "[[ 1.   -0.08  0.    0.  ]\n",
      " [ 0.06  0.7  -0.71  0.  ]\n",
      " [ 0.    0.04  0.04 -1.  ]\n",
      " [-0.06 -0.7  -0.7  -0.06]]\n",
      "R:\n",
      "[[ 594.05 -604.99   10.93    0.  ]\n",
      " [   0.    185.88 -220.83   34.94]\n",
      " [   0.      0.    593.02 -593.02]\n",
      " [  -0.     -0.      0.      0.  ]]\n"
     ]
    }
   ],
   "source": [
    "# Rozkład QR metodą Householdera\n",
    "Q, R = qr_householder(D)\n",
    "print(\"Q:\")\n",
    "print(np.round(Q, decimals=2))\n",
    "print(\"R:\")\n",
    "print(np.round(R, decimals=2))"
   ]
  },
  {
   "cell_type": "code",
   "execution_count": 5,
   "id": "3ea704b6",
   "metadata": {},
   "outputs": [],
   "source": [
    "# Obliczanie wartości własnych i wektorów własnych\n",
    "def compute_eigenvalues_and_eigenvectors(D):\n",
    "    eigenvalues, eigenvectors = np.linalg.eig(D)\n",
    "    return eigenvalues, eigenvectors\n",
    "\n",
    "# Wyznaczanie wartości i wektorów własnych zgodnie z algorytmem opisanym\n",
    "eigenvalues, eigenvectors = compute_eigenvalues_and_eigenvectors(D)"
   ]
  },
  {
   "cell_type": "code",
   "execution_count": 6,
   "id": "a65c28e3",
   "metadata": {},
   "outputs": [
    {
     "name": "stdout",
     "output_type": "stream",
     "text": [
      "Eigenvalues:\n",
      "[  0.   231.63 673.04 641.33]\n",
      "Eigenvectors:\n",
      "[[-0.5   0.6  -0.7   0.7 ]\n",
      " [-0.5   0.37  0.1  -0.06]\n",
      " [-0.5  -0.37 -0.1  -0.06]\n",
      " [-0.5  -0.6   0.7   0.7 ]]\n"
     ]
    }
   ],
   "source": [
    "print(\"Eigenvalues:\")\n",
    "print(np.round(eigenvalues, decimals=2))\n",
    "print(\"Eigenvectors:\")\n",
    "print(np.round(eigenvectors, decimals=2))"
   ]
  },
  {
   "cell_type": "code",
   "execution_count": null,
   "id": "097a8a25",
   "metadata": {},
   "outputs": [],
   "source": []
  }
 ],
 "metadata": {
  "kernelspec": {
   "display_name": "Python 3 (ipykernel)",
   "language": "python",
   "name": "python3"
  },
  "language_info": {
   "codemirror_mode": {
    "name": "ipython",
    "version": 3
   },
   "file_extension": ".py",
   "mimetype": "text/x-python",
   "name": "python",
   "nbconvert_exporter": "python",
   "pygments_lexer": "ipython3",
   "version": "3.12.2"
  }
 },
 "nbformat": 4,
 "nbformat_minor": 5
}
