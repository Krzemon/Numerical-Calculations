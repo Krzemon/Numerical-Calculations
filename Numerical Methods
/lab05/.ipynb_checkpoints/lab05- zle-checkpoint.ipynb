{
 "cells": [
  {
   "cell_type": "code",
   "execution_count": 2,
   "id": "1912f979",
   "metadata": {},
   "outputs": [],
   "source": [
    "import numpy as np\n",
    "from matplotlib import pyplot as plt"
   ]
  },
  {
   "cell_type": "code",
   "execution_count": 3,
   "id": "daaa83ba",
   "metadata": {},
   "outputs": [
    {
     "name": "stdout",
     "output_type": "stream",
     "text": [
      "[[ 592.   -592.      0.      0.  ]\n",
      " [ -49.33  181.   -131.67    0.  ]\n",
      " [   0.   -131.67  181.    -49.33]\n",
      " [   0.      0.   -592.    592.  ]]\n"
     ]
    }
   ],
   "source": [
    "k_CH = 5.92e2\n",
    "k_CC = 15.8e2\n",
    "\n",
    "# masa w amu\n",
    "m_H = 1\n",
    "m_C = 12\n",
    "# amu = 1.6605*1e-27\n",
    "\n",
    "N = 4\n",
    "D = np.zeros((N,N))\n",
    "\n",
    "D[1][1] = D[2][2] = (k_CC + k_CH) / m_C\n",
    "D[0][0] = D[3][3] = k_CH / m_H\n",
    "D[0][1] = D[3][2] = - k_CH / m_H\n",
    "D[1][0] = D[2][3] = - k_CH / m_C\n",
    "D[2][1] = D[1][2] = - k_CC / m_C\n",
    "\n",
    "print(np.round(D, decimals=2))"
   ]
  },
  {
   "cell_type": "code",
   "execution_count": 4,
   "id": "b078ba97",
   "metadata": {},
   "outputs": [],
   "source": [
    "# Implementacja rozkładu QR metodą Householdera\n",
    "def qr_householder(A):\n",
    "    m, n = A.shape\n",
    "    Q = np.eye(m)\n",
    "\n",
    "    for i in range(min(m, n)):\n",
    "        x = A[i:, i]\n",
    "        e = np.zeros_like(x)\n",
    "        e[0] = np.linalg.norm(x)\n",
    "        u = x - e\n",
    "        norm_u = np.linalg.norm(u)\n",
    "        if norm_u != 0:  # Sprawdzenie czy norma u nie jest równa 0\n",
    "            v = u / norm_u\n",
    "            Q_i = np.eye(m)\n",
    "            Q_i[i:, i:] -= 2 * np.outer(v, v)\n",
    "            Q = np.dot(Q, Q_i)\n",
    "            A = np.dot(Q_i, A)\n",
    "\n",
    "    return Q.T, np.round(A, decimals=10)"
   ]
  },
  {
   "cell_type": "code",
   "execution_count": 5,
   "id": "0f67b39f",
   "metadata": {},
   "outputs": [
    {
     "name": "stdout",
     "output_type": "stream",
     "text": [
      "Q:\n",
      "[[ 1.   -0.08  0.    0.  ]\n",
      " [ 0.06  0.7  -0.71  0.  ]\n",
      " [ 0.    0.04  0.04 -1.  ]\n",
      " [-0.06 -0.7  -0.7  -0.06]]\n",
      "R:\n",
      "[[ 594.05 -604.99   10.93    0.  ]\n",
      " [   0.    185.88 -220.83   34.94]\n",
      " [   0.      0.    593.02 -593.02]\n",
      " [  -0.     -0.      0.      0.  ]]\n"
     ]
    }
   ],
   "source": [
    "# Rozkład QR metodą Householdera\n",
    "Q, R = qr_householder(D)\n",
    "print(\"Q:\")\n",
    "print(np.round(Q, decimals=2))\n",
    "print(\"R:\")\n",
    "print(np.round(R, decimals=2))"
   ]
  },
  {
   "cell_type": "code",
   "execution_count": 6,
   "id": "1e9d6d71",
   "metadata": {},
   "outputs": [],
   "source": [
    "# Obliczanie wartości własnych i wektorów własnych zgodnie z opisaną procedurą\n",
    "def compute_eigenvalues_and_eigenvectors(D, IT):\n",
    "    H = np.copy(D)\n",
    "    P = np.eye(N)\n",
    "\n",
    "    for _ in range(IT):\n",
    "        Q, R = qr_householder(H)\n",
    "        H = np.dot(R, Q)\n",
    "        P = np.dot(P, Q)\n",
    "\n",
    "    eigenvalues = np.diagonal(H)\n",
    "    \n",
    "    eigenvectors = []\n",
    "    for i in range(N):\n",
    "        x = np.zeros(N)\n",
    "        x[i] = 1\n",
    "        for j in range(i):\n",
    "            if H[j, j] != 0 and H[i, i] != 0:  # Unikanie dzielenia przez zero\n",
    "                x[j] = -np.sum(H[j, j+1:i] * x[j+1:i]) / (H[j, j] * H[i, i])\n",
    "        x = x / np.linalg.norm(x)\n",
    "        eigenvectors.append(x)\n",
    "\n",
    "    eigenvectors_D = np.dot(P, np.array(eigenvectors).T)\n",
    "    \n",
    "    return eigenvalues, eigenvectors_D"
   ]
  },
  {
   "cell_type": "code",
   "execution_count": 7,
   "id": "790ea95a",
   "metadata": {},
   "outputs": [],
   "source": [
    "# Wyznaczanie wartości i wektorów własnych zgodnie z procedurą opisaną\n",
    "IT = 200\n",
    "eigenvalues, eigenvectors = compute_eigenvalues_and_eigenvectors(D, IT)"
   ]
  },
  {
   "cell_type": "code",
   "execution_count": 8,
   "id": "8066c84e",
   "metadata": {},
   "outputs": [
    {
     "name": "stdout",
     "output_type": "stream",
     "text": [
      "Eigenvalues:\n",
      "[ 596.55 -543.97 -213.3     0.  ]\n",
      "Eigenvectors:\n",
      "[[ 1.    0.03 -0.01  0.  ]\n",
      " [-0.    0.51  0.86  0.  ]\n",
      " [ 0.   -0.05  0.03 -1.  ]\n",
      " [-0.04  0.86 -0.51 -0.06]]\n"
     ]
    }
   ],
   "source": [
    "print(\"Eigenvalues:\")\n",
    "print(np.round(eigenvalues, decimals=2))\n",
    "print(\"Eigenvectors:\")\n",
    "print(np.round(eigenvectors, decimals=2))"
   ]
  },
  {
   "cell_type": "code",
   "execution_count": null,
   "id": "24b2442e",
   "metadata": {},
   "outputs": [],
   "source": []
  }
 ],
 "metadata": {
  "kernelspec": {
   "display_name": "Python 3 (ipykernel)",
   "language": "python",
   "name": "python3"
  },
  "language_info": {
   "codemirror_mode": {
    "name": "ipython",
    "version": 3
   },
   "file_extension": ".py",
   "mimetype": "text/x-python",
   "name": "python",
   "nbconvert_exporter": "python",
   "pygments_lexer": "ipython3",
   "version": "3.12.2"
  }
 },
 "nbformat": 4,
 "nbformat_minor": 5
}
