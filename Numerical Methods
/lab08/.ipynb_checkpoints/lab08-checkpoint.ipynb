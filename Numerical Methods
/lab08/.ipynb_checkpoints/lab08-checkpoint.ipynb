{
 "cells": [
  {
   "cell_type": "code",
   "execution_count": 2,
   "id": "0e08a417",
   "metadata": {},
   "outputs": [],
   "source": [
    "import numpy as np\n",
    "from matplotlib import pyplot as plt"
   ]
  },
  {
   "cell_type": "code",
   "execution_count": 3,
   "id": "581d523d",
   "metadata": {},
   "outputs": [],
   "source": [
    "alfa = 0\n",
    "beta = 0\n",
    "\n",
    "def fun(x):\n",
    "    return 1 / (1 + x**2)\n",
    "\n",
    "n = 10\n",
    "x_vec = np.linspace(-5, 5, n + 1)\n",
    "y_vec = fun(x_vec)\n",
    "\n",
    "h = x_vec[1] - x_vec[0]\n",
    "lambda_ = 0.5\n",
    "mu_ = 1 - lambda_\n",
    "\n",
    "d = np.zeros(n + 1)"
   ]
  },
  {
   "cell_type": "code",
   "execution_count": null,
   "id": "ea908c7d",
   "metadata": {},
   "outputs": [],
   "source": [
    "for i in range(1, n):\n",
    "    d[i] = 6 * (y_vec[i+1] - 2*y_vec[i] + y_vec[i-1]) / (2*h*h) \n",
    "\n",
    "d[0] = alfa\n",
    "d[n] = beta\n"
   ]
  },
  {
   "cell_type": "code",
   "execution_count": 12,
   "id": "1c8becec",
   "metadata": {},
   "outputs": [],
   "source": [
    "def A_i(i):\n",
    "    return (y[i] - y[i-1]) / h - h / 6 * (m[i] - m[i-1])\n",
    "\n",
    "def B_i(i):\n",
    "    return y[i-1] - m[i-1] * h * h / 6"
   ]
  },
  {
   "cell_type": "code",
   "execution_count": null,
   "id": "c060893e",
   "metadata": {},
   "outputs": [],
   "source": []
  }
 ],
 "metadata": {
  "kernelspec": {
   "display_name": "Python 3 (ipykernel)",
   "language": "python",
   "name": "python3"
  },
  "language_info": {
   "codemirror_mode": {
    "name": "ipython",
    "version": 3
   },
   "file_extension": ".py",
   "mimetype": "text/x-python",
   "name": "python",
   "nbconvert_exporter": "python",
   "pygments_lexer": "ipython3",
   "version": "3.12.2"
  }
 },
 "nbformat": 4,
 "nbformat_minor": 5
}
