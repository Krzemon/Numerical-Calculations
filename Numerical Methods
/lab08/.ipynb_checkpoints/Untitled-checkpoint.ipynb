{
 "cells": [
  {
   "cell_type": "code",
   "execution_count": 10,
   "id": "6a47eafb",
   "metadata": {},
   "outputs": [],
   "source": [
    "import numpy as np\n",
    "import matplotlib.pyplot as plt"
   ]
  },
  {
   "cell_type": "code",
   "execution_count": 18,
   "id": "b88f49e9",
   "metadata": {},
   "outputs": [],
   "source": [
    "# Funkcje interpolowane\n",
    "def f1(x):\n",
    "    return 1 / (1 + x**2)\n",
    "\n",
    "def f2(x):\n",
    "    return np.cos(2*x)\n",
    "\n",
    "# Zadanie 1: Procedura do wyznaczania wartości drugich pochodnych w węzłach\n",
    "def wyzM(xw, yw, m, n, alfa, beta):\n",
    "    h = xw[1] - xw[0]\n",
    "    lambda_ = h / (h + h)\n",
    "    mu_ = 1 - lambda_\n",
    "    \n",
    "    d = np.zeros(n+1)\n",
    "    \n",
    "    for i in range(1, n):\n",
    "        d[i] = 6 * (yw[i+1] - 2*yw[i] + yw[i-1]) / (h * h)\n",
    "    \n",
    "    d[0] = alfa\n",
    "    d[n] = beta\n",
    "    \n",
    "    m[:] = np.linalg.solve(np.diag(mu_, -1) + np.diag(2*np.ones(n+1)) + np.diag(lambda_, 1), d[1:-1])"
   ]
  },
  {
   "cell_type": "code",
   "execution_count": 19,
   "id": "b5795803",
   "metadata": {},
   "outputs": [],
   "source": [
    "# Zadanie 2: Procedura do wyznaczania wartości funkcji w położeniu międzywęzłowym\n",
    "def wyzSx(xw, yw, m, n, x):\n",
    "    for i in range(1, n+1):\n",
    "        if xw[i-1] <= x <= xw[i]:\n",
    "            m_m1 = m[i-1]\n",
    "            m_i = m[i]\n",
    "            h = xw[i] - xw[i-1]\n",
    "            return (m_m1 * (xw[i] - x)**3 / (6*h) + \n",
    "                    m_i * (x - xw[i-1])**3 / (6*h) + \n",
    "                    (yw[i-1] - m_i * h**2 / 6) * (xw[i] - x) / h + \n",
    "                    (yw[i] - m_m1 * h**2 / 6) * (x - xw[i-1]) / h)"
   ]
  },
  {
   "cell_type": "code",
   "execution_count": 20,
   "id": "21b27b86",
   "metadata": {},
   "outputs": [
    {
     "ename": "ValueError",
     "evalue": "Input must be 1- or 2-d.",
     "output_type": "error",
     "traceback": [
      "\u001b[0;31m---------------------------------------------------------------------------\u001b[0m",
      "\u001b[0;31mValueError\u001b[0m                                Traceback (most recent call last)",
      "Cell \u001b[0;32mIn[20], line 9\u001b[0m\n\u001b[1;32m      6\u001b[0m y_vec \u001b[38;5;241m=\u001b[39m f1(x_vec)\n\u001b[1;32m      7\u001b[0m m \u001b[38;5;241m=\u001b[39m np\u001b[38;5;241m.\u001b[39mzeros(n \u001b[38;5;241m+\u001b[39m \u001b[38;5;241m1\u001b[39m)\n\u001b[0;32m----> 9\u001b[0m \u001b[43mwyzM\u001b[49m\u001b[43m(\u001b[49m\u001b[43mx_vec\u001b[49m\u001b[43m,\u001b[49m\u001b[43m \u001b[49m\u001b[43my_vec\u001b[49m\u001b[43m,\u001b[49m\u001b[43m \u001b[49m\u001b[43mm\u001b[49m\u001b[43m,\u001b[49m\u001b[43m \u001b[49m\u001b[43mn\u001b[49m\u001b[43m,\u001b[49m\u001b[43m \u001b[49m\u001b[38;5;241;43m0\u001b[39;49m\u001b[43m,\u001b[49m\u001b[43m \u001b[49m\u001b[38;5;241;43m0\u001b[39;49m\u001b[43m)\u001b[49m\n\u001b[1;32m     11\u001b[0m y_interpol \u001b[38;5;241m=\u001b[39m np\u001b[38;5;241m.\u001b[39mzeros_like(x_vec)\n\u001b[1;32m     12\u001b[0m \u001b[38;5;28;01mfor\u001b[39;00m i \u001b[38;5;129;01min\u001b[39;00m \u001b[38;5;28mrange\u001b[39m(\u001b[38;5;241m1\u001b[39m, n \u001b[38;5;241m+\u001b[39m \u001b[38;5;241m1\u001b[39m):\n",
      "Cell \u001b[0;32mIn[18], line 22\u001b[0m, in \u001b[0;36mwyzM\u001b[0;34m(xw, yw, m, n, alfa, beta)\u001b[0m\n\u001b[1;32m     19\u001b[0m d[\u001b[38;5;241m0\u001b[39m] \u001b[38;5;241m=\u001b[39m alfa\n\u001b[1;32m     20\u001b[0m d[n] \u001b[38;5;241m=\u001b[39m beta\n\u001b[0;32m---> 22\u001b[0m m[:] \u001b[38;5;241m=\u001b[39m np\u001b[38;5;241m.\u001b[39mlinalg\u001b[38;5;241m.\u001b[39msolve(\u001b[43mnp\u001b[49m\u001b[38;5;241;43m.\u001b[39;49m\u001b[43mdiag\u001b[49m\u001b[43m(\u001b[49m\u001b[43mmu_\u001b[49m\u001b[43m,\u001b[49m\u001b[43m \u001b[49m\u001b[38;5;241;43m-\u001b[39;49m\u001b[38;5;241;43m1\u001b[39;49m\u001b[43m)\u001b[49m \u001b[38;5;241m+\u001b[39m np\u001b[38;5;241m.\u001b[39mdiag(\u001b[38;5;241m2\u001b[39m\u001b[38;5;241m*\u001b[39mnp\u001b[38;5;241m.\u001b[39mones(n\u001b[38;5;241m+\u001b[39m\u001b[38;5;241m1\u001b[39m)) \u001b[38;5;241m+\u001b[39m np\u001b[38;5;241m.\u001b[39mdiag(lambda_, \u001b[38;5;241m1\u001b[39m), d[\u001b[38;5;241m1\u001b[39m:\u001b[38;5;241m-\u001b[39m\u001b[38;5;241m1\u001b[39m])\n",
      "File \u001b[0;32m<__array_function__ internals>:200\u001b[0m, in \u001b[0;36mdiag\u001b[0;34m(*args, **kwargs)\u001b[0m\n",
      "File \u001b[0;32m/usr/lib64/python3.12/site-packages/numpy/lib/twodim_base.py:309\u001b[0m, in \u001b[0;36mdiag\u001b[0;34m(v, k)\u001b[0m\n\u001b[1;32m    307\u001b[0m     \u001b[38;5;28;01mreturn\u001b[39;00m diagonal(v, k)\n\u001b[1;32m    308\u001b[0m \u001b[38;5;28;01melse\u001b[39;00m:\n\u001b[0;32m--> 309\u001b[0m     \u001b[38;5;28;01mraise\u001b[39;00m \u001b[38;5;167;01mValueError\u001b[39;00m(\u001b[38;5;124m\"\u001b[39m\u001b[38;5;124mInput must be 1- or 2-d.\u001b[39m\u001b[38;5;124m\"\u001b[39m)\n",
      "\u001b[0;31mValueError\u001b[0m: Input must be 1- or 2-d."
     ]
    },
    {
     "data": {
      "text/plain": [
       "<Figure size 1200x800 with 0 Axes>"
      ]
     },
     "metadata": {},
     "output_type": "display_data"
    }
   ],
   "source": [
    "# Zadanie 3: Interpolacja funkcji f1(x) i f2(x)\n",
    "plt.figure(figsize=(12, 8))\n",
    "\n",
    "for n in [5, 8, 21]:\n",
    "    x_vec = np.linspace(-5, 5, n + 1)\n",
    "    y_vec = f1(x_vec)\n",
    "    m = np.zeros(n + 1)\n",
    "    \n",
    "    wyzM(x_vec, y_vec, m, n, 0, 0)\n",
    "    \n",
    "    y_interpol = np.zeros_like(x_vec)\n",
    "    for i in range(1, n + 1):\n",
    "        mask = (x_vec[i-1] <= x_vec) & (x_vec <= x_vec[i])\n",
    "        y_interpol[mask] = wyzSx(x_vec, y_vec, m, n, x_vec[i])\n",
    "    \n",
    "    plt.plot(x_vec, y_interpol, label=f'n = {n}')\n",
    "\n",
    "plt.plot(x_vec, y_vec, 'ro', label='f(x)')\n",
    "plt.xlabel('x')\n",
    "plt.ylabel('y')\n",
    "plt.legend()\n",
    "plt.title('Interpolacja funkcji f1(x)')\n",
    "plt.grid(True)\n",
    "plt.show()"
   ]
  },
  {
   "cell_type": "code",
   "execution_count": 14,
   "id": "145e27b0",
   "metadata": {},
   "outputs": [
    {
     "ename": "ValueError",
     "evalue": "Input must be 1- or 2-d.",
     "output_type": "error",
     "traceback": [
      "\u001b[0;31m---------------------------------------------------------------------------\u001b[0m",
      "\u001b[0;31mValueError\u001b[0m                                Traceback (most recent call last)",
      "Cell \u001b[0;32mIn[14], line 11\u001b[0m\n\u001b[1;32m      8\u001b[0m y_vec \u001b[38;5;241m=\u001b[39m f2(x_vec)\n\u001b[1;32m      9\u001b[0m m \u001b[38;5;241m=\u001b[39m np\u001b[38;5;241m.\u001b[39mzeros(n \u001b[38;5;241m+\u001b[39m \u001b[38;5;241m1\u001b[39m)\n\u001b[0;32m---> 11\u001b[0m \u001b[43mwyzM\u001b[49m\u001b[43m(\u001b[49m\u001b[43mx_vec\u001b[49m\u001b[43m,\u001b[49m\u001b[43m \u001b[49m\u001b[43my_vec\u001b[49m\u001b[43m,\u001b[49m\u001b[43m \u001b[49m\u001b[43mm\u001b[49m\u001b[43m,\u001b[49m\u001b[43m \u001b[49m\u001b[43mn\u001b[49m\u001b[43m,\u001b[49m\u001b[43m \u001b[49m\u001b[38;5;241;43m0\u001b[39;49m\u001b[43m,\u001b[49m\u001b[43m \u001b[49m\u001b[38;5;241;43m0\u001b[39;49m\u001b[43m)\u001b[49m\n\u001b[1;32m     13\u001b[0m y_interpol \u001b[38;5;241m=\u001b[39m np\u001b[38;5;241m.\u001b[39marray([wyzSx(x_vec, y_vec, m, n, x) \u001b[38;5;28;01mfor\u001b[39;00m x \u001b[38;5;129;01min\u001b[39;00m x_interp])\n\u001b[1;32m     15\u001b[0m plt\u001b[38;5;241m.\u001b[39mplot(x_interp, y_interpol, label\u001b[38;5;241m=\u001b[39m\u001b[38;5;124mf\u001b[39m\u001b[38;5;124m'\u001b[39m\u001b[38;5;124mn = \u001b[39m\u001b[38;5;132;01m{\u001b[39;00mn\u001b[38;5;132;01m}\u001b[39;00m\u001b[38;5;124m'\u001b[39m)\n",
      "Cell \u001b[0;32mIn[11], line 22\u001b[0m, in \u001b[0;36mwyzM\u001b[0;34m(xw, yw, m, n, alfa, beta)\u001b[0m\n\u001b[1;32m     19\u001b[0m d[\u001b[38;5;241m0\u001b[39m] \u001b[38;5;241m=\u001b[39m alfa\n\u001b[1;32m     20\u001b[0m d[n] \u001b[38;5;241m=\u001b[39m beta\n\u001b[0;32m---> 22\u001b[0m m[:] \u001b[38;5;241m=\u001b[39m np\u001b[38;5;241m.\u001b[39mlinalg\u001b[38;5;241m.\u001b[39msolve(\u001b[43mnp\u001b[49m\u001b[38;5;241;43m.\u001b[39;49m\u001b[43mdiag\u001b[49m\u001b[43m(\u001b[49m\u001b[43mmu_\u001b[49m\u001b[43m,\u001b[49m\u001b[43m \u001b[49m\u001b[38;5;241;43m-\u001b[39;49m\u001b[38;5;241;43m1\u001b[39;49m\u001b[43m)\u001b[49m \u001b[38;5;241m+\u001b[39m np\u001b[38;5;241m.\u001b[39mdiag(\u001b[38;5;241m2\u001b[39m\u001b[38;5;241m*\u001b[39mnp\u001b[38;5;241m.\u001b[39mones(n\u001b[38;5;241m+\u001b[39m\u001b[38;5;241m1\u001b[39m)) \u001b[38;5;241m+\u001b[39m np\u001b[38;5;241m.\u001b[39mdiag(lambda_, \u001b[38;5;241m1\u001b[39m), d)\n",
      "File \u001b[0;32m<__array_function__ internals>:200\u001b[0m, in \u001b[0;36mdiag\u001b[0;34m(*args, **kwargs)\u001b[0m\n",
      "File \u001b[0;32m/usr/lib64/python3.12/site-packages/numpy/lib/twodim_base.py:309\u001b[0m, in \u001b[0;36mdiag\u001b[0;34m(v, k)\u001b[0m\n\u001b[1;32m    307\u001b[0m     \u001b[38;5;28;01mreturn\u001b[39;00m diagonal(v, k)\n\u001b[1;32m    308\u001b[0m \u001b[38;5;28;01melse\u001b[39;00m:\n\u001b[0;32m--> 309\u001b[0m     \u001b[38;5;28;01mraise\u001b[39;00m \u001b[38;5;167;01mValueError\u001b[39;00m(\u001b[38;5;124m\"\u001b[39m\u001b[38;5;124mInput must be 1- or 2-d.\u001b[39m\u001b[38;5;124m\"\u001b[39m)\n",
      "\u001b[0;31mValueError\u001b[0m: Input must be 1- or 2-d."
     ]
    },
    {
     "data": {
      "text/plain": [
       "<Figure size 1200x800 with 0 Axes>"
      ]
     },
     "metadata": {},
     "output_type": "display_data"
    }
   ],
   "source": [
    "\n",
    "# Zadanie 5: Interpolacja dla różnych funkcji i liczby węzłów\n",
    "plt.figure(figsize=(12, 8))\n",
    "\n",
    "x_interp = np.linspace(-5, 5, 100)\n",
    "\n",
    "for n in [5, 8, 21]:\n",
    "    x_vec = np.linspace(-5, 5, n + 1)\n",
    "    y_vec = f2(x_vec)\n",
    "    m = np.zeros(n + 1)\n",
    "    \n",
    "    wyzM(x_vec, y_vec, m, n, 0, 0)\n",
    "    \n",
    "    y_interpol = np.array([wyzSx(x_vec, y_vec, m, n, x) for x in x_interp])\n",
    "    \n",
    "    plt.plot(x_interp, y_interpol, label=f'n = {n}')\n",
    "\n",
    "plt.plot(x_interp, f2(x_interp), 'k--', label='f(x)')\n",
    "plt.xlabel('x')\n",
    "plt.ylabel('y')\n",
    "plt.legend()\n",
    "plt.title('Interpolacja funkcji f2(x)')\n",
    "plt.grid(True)\n",
    "plt.show()"
   ]
  },
  {
   "cell_type": "code",
   "execution_count": null,
   "id": "3aed4254",
   "metadata": {},
   "outputs": [],
   "source": []
  }
 ],
 "metadata": {
  "kernelspec": {
   "display_name": "Python 3 (ipykernel)",
   "language": "python",
   "name": "python3"
  },
  "language_info": {
   "codemirror_mode": {
    "name": "ipython",
    "version": 3
   },
   "file_extension": ".py",
   "mimetype": "text/x-python",
   "name": "python",
   "nbconvert_exporter": "python",
   "pygments_lexer": "ipython3",
   "version": "3.12.2"
  }
 },
 "nbformat": 4,
 "nbformat_minor": 5
}
