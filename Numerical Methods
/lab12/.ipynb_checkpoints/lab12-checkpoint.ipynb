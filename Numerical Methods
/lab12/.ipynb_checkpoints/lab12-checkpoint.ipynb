{
 "cells": [
  {
   "cell_type": "code",
   "execution_count": 1,
   "id": "7b3a9c42",
   "metadata": {},
   "outputs": [],
   "source": [
    "import numpy as np\n",
    "from matplotlib import pyplot as plt"
   ]
  },
  {
   "cell_type": "code",
   "execution_count": 2,
   "id": "23f76cfa",
   "metadata": {},
   "outputs": [],
   "source": [
    "# funkcja sinus w sensie rozwinięcia Mclaurina\n",
    "\n",
    "# x - zmienna \n",
    "# n - dokladnosc\n",
    "# k - czestosc\n",
    "\n",
    "def Sin(x, k, n = 10): \n",
    "    suma = 0\n",
    "    for i in range(0, n):\n",
    "        if i % 2 == 0: \n",
    "            suma += 1\n",
    "        else:\n",
    "            suma -= 1\n",
    "    \n",
    "    return suma # potem zrobie bo nudne"
   ]
  },
  {
   "cell_type": "code",
   "execution_count": 13,
   "id": "c77e8ba7",
   "metadata": {},
   "outputs": [],
   "source": [
    "# Funkcja podcałkowa\n",
    "\n",
    "# x - zmienna \n",
    "# k - czestosc\n",
    "# m - wykladnik dla funkcji x\n",
    "#ѱ\n",
    "def Psi(x, k, m):    \n",
    "    return np.power(x, m) * np.sin(k * x)"
   ]
  },
  {
   "cell_type": "code",
   "execution_count": 20,
   "id": "557d5737",
   "metadata": {},
   "outputs": [],
   "source": [
    "# zwraca numeryczną wartość całki z funkcji ѱ(x)\n",
    "\n",
    "# h - szerokość słupka\n",
    "# N - liczba węzłów (nieparzysta)\n",
    "# a,b - granice całkowania \n",
    "\n",
    "def Simpson(k, m, N, a = 0, b = np.pi):\n",
    "    suma = 0\n",
    "    h = (b - a) / (N - 1)\n",
    "#     x_vec = np.linspace(a, b, N)\n",
    "    \n",
    "    for i in range(1, int((N - 1) / 2) + 1):\n",
    "        suma += Psi((2*i - 2) * h, k, m) + 4*Psi((2*i - 1) * h, k, m) + Psi((2*i) * h, k, m)\n",
    "    \n",
    "    return h / 3 * suma "
   ]
  },
  {
   "cell_type": "markdown",
   "id": "4d33a98f",
   "metadata": {},
   "source": [
    "## Zadanie 2"
   ]
  },
  {
   "cell_type": "code",
   "execution_count": 22,
   "id": "900779a2",
   "metadata": {},
   "outputs": [
    {
     "name": "stdout",
     "output_type": "stream",
     "text": [
      "Wartosc całki w przedziale [0,π], dla m = 0, k = 1 \n",
      "wynosi: 2.000000000676472\n",
      "\n",
      "Wartosc całki w przedziale [0,π], dla m = 1, k = 1 \n",
      "wynosi: 3.141592654652393\n",
      "\n",
      "Wartosc całki w przedziale [0,π], dla m = 5, k = 5 \n",
      "wynosi: 56.36357963983404\n",
      "\n"
     ]
    }
   ],
   "source": [
    "n_tab = [11, 21, 51, 101, 201]\n",
    "\n",
    "#A\n",
    "m = 0; k = 1\n",
    "simpson_A = Simpson(k, m, n_tab[4])\n",
    "print(f'Wartosc całki w przedziale [0,π], dla m = {m}, k = {k} \\nwynosi: {simpson_A}\\n')\n",
    "#B\n",
    "m = 1; k = 1\n",
    "simpson_B = Simpson(k, m, n_tab[4])\n",
    "print(f'Wartosc całki w przedziale [0,π], dla m = {m}, k = {k} \\nwynosi: {simpson_B}\\n')\n",
    "#C\n",
    "m = 5; k = 5\n",
    "simpson_C = Simpson(k,m, n_tab[4])\n",
    "print(f'Wartosc całki w przedziale [0,π], dla m = {m}, k = {k} \\nwynosi: {simpson_C}\\n')"
   ]
  },
  {
   "cell_type": "code",
   "execution_count": null,
   "id": "e1e554b5",
   "metadata": {},
   "outputs": [],
   "source": []
  },
  {
   "cell_type": "code",
   "execution_count": null,
   "id": "2efec9da",
   "metadata": {},
   "outputs": [],
   "source": []
  },
  {
   "cell_type": "code",
   "execution_count": null,
   "id": "bfee49f7",
   "metadata": {},
   "outputs": [],
   "source": []
  },
  {
   "cell_type": "code",
   "execution_count": null,
   "id": "bf86490d",
   "metadata": {},
   "outputs": [],
   "source": []
  }
 ],
 "metadata": {
  "kernelspec": {
   "display_name": "Python 3 (ipykernel)",
   "language": "python",
   "name": "python3"
  },
  "language_info": {
   "codemirror_mode": {
    "name": "ipython",
    "version": 3
   },
   "file_extension": ".py",
   "mimetype": "text/x-python",
   "name": "python",
   "nbconvert_exporter": "python",
   "pygments_lexer": "ipython3",
   "version": "3.12.2"
  }
 },
 "nbformat": 4,
 "nbformat_minor": 5
}
