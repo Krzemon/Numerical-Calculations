{
 "cells": [
  {
   "cell_type": "code",
   "execution_count": 6,
   "metadata": {},
   "outputs": [],
   "source": [
    "def sparse_eigs_vec(ham, n_eigs, n_vec_lanczos, sigma=0):\n",
    "        \"\"\"Compute eigenenergies using MUMPS as a sparse solver.\n",
    "\n",
    "        Parameters:\n",
    "        ----------\n",
    "        ham : coo_matrix\n",
    "            The Hamiltonian of the system in sparse representation..\n",
    "        n_eigs : int\n",
    "            The number of energy eigenvalues to be returned.\n",
    "        n_vec_lanczos : int\n",
    "            Number of Lanczos vectors used by the sparse solver.\n",
    "        sigma : float\n",
    "            Parameter used by the shift-inverted method. See\n",
    "            documentation of scipy.sparse.linalg.eig\n",
    "\n",
    "        Returns:\n",
    "        --------\n",
    "        A list containing the sorted energy levels. Only positive\n",
    "        energies are returned.\n",
    "        \"\"\"\n",
    "        class LuInv(sla.LinearOperator):\n",
    "            def __init__(self, A):\n",
    "                inst = kwant.linalg.mumps.MUMPSContext()\n",
    "                inst.factor(A, ordering='metis')\n",
    "                self.solve = inst.solve\n",
    "                try:\n",
    "                    super(LuInv, self).__init__(shape=A.shape, dtype=A.dtype,\n",
    "                                                matvec=self._matvec)\n",
    "                except TypeError:\n",
    "                    super(LuInv, self).__init__(shape=A.shape, dtype=A.dtype)\n",
    "\n",
    "            def _matvec(self, x):\n",
    "                return self.solve(x.astype(self.dtype))\n",
    "\n",
    "        ev, evecs = sla.eigs(ham, k=n_eigs,\n",
    "                             OPinv=LuInv(ham), sigma=sigma, ncv=n_vec_lanczos)\n",
    "\n",
    "        return ev, evecs"
   ]
  }
 ],
 "metadata": {
  "celltoolbar": "Raw Cell Format",
  "kernelspec": {
   "display_name": "Python 3 (ipykernel)",
   "language": "python",
   "name": "python3"
  },
  "language_info": {
   "codemirror_mode": {
    "name": "ipython",
    "version": 3
   },
   "file_extension": ".py",
   "mimetype": "text/x-python",
   "name": "python",
   "nbconvert_exporter": "python",
   "pygments_lexer": "ipython3",
   "version": "3.7.11"
  }
 },
 "nbformat": 4,
 "nbformat_minor": 4
}
